{
 "cells": [
  {
   "cell_type": "markdown",
   "id": "b305b85e",
   "metadata": {},
   "source": [
    "# Problem 1(b)"
   ]
  },
  {
   "cell_type": "code",
   "execution_count": null,
   "id": "6cd1492c",
   "metadata": {},
   "outputs": [],
   "source": [
    "class CondProb(A, B):\n",
    "    "
   ]
  }
 ],
 "metadata": {
  "kernelspec": {
   "display_name": "Python 3 (ipykernel)",
   "language": "python",
   "name": "python3"
  },
  "language_info": {
   "codemirror_mode": {
    "name": "ipython",
    "version": 3
   },
   "file_extension": ".py",
   "mimetype": "text/x-python",
   "name": "python",
   "nbconvert_exporter": "python",
   "pygments_lexer": "ipython3",
   "version": "3.9.13"
  }
 },
 "nbformat": 4,
 "nbformat_minor": 5
}
